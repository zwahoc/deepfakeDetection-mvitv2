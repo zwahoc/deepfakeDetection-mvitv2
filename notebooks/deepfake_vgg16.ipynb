{
 "cells": [
  {
   "cell_type": "markdown",
   "id": "ca563aed",
   "metadata": {
    "vscode": {
     "languageId": "plaintext"
    }
   },
   "source": [
    "## **VGG-16 Model**"
   ]
  },
  {
   "cell_type": "markdown",
   "id": "df804640",
   "metadata": {},
   "source": [
    "### **Installation**"
   ]
  },
  {
   "cell_type": "code",
   "execution_count": 1,
   "id": "fa478eba",
   "metadata": {},
   "outputs": [],
   "source": [
    "!pip -q install torch torchvision "
   ]
  },
  {
   "cell_type": "code",
   "execution_count": 2,
   "id": "7c7aebc9",
   "metadata": {},
   "outputs": [
    {
     "name": "stdout",
     "output_type": "stream",
     "text": [
      "Note: you may need to restart the kernel to use updated packages.\n"
     ]
    }
   ],
   "source": [
    "%pip -q install scikit-learn"
   ]
  },
  {
   "cell_type": "code",
   "execution_count": 3,
   "id": "53fc8fdf",
   "metadata": {},
   "outputs": [
    {
     "name": "stdout",
     "output_type": "stream",
     "text": [
      "Note: you may need to restart the kernel to use updated packages.\n"
     ]
    }
   ],
   "source": [
    "# Install extra dependencies for metrics/plots\n",
    "%pip -q install scikit-learn"
   ]
  },
  {
   "cell_type": "markdown",
   "id": "13475587",
   "metadata": {},
   "source": [
    "### **Configurations & Declarations**"
   ]
  },
  {
   "cell_type": "markdown",
   "id": "eb673c24",
   "metadata": {},
   "source": [
    "#### Import"
   ]
  },
  {
   "cell_type": "code",
   "execution_count": 10,
   "id": "45ef3e1b",
   "metadata": {},
   "outputs": [],
   "source": [
    "import os, io, math, random, glob\n",
    "from pathlib import Path\n",
    "\n",
    "import numpy as np\n",
    "import torch, torch.nn as nn\n",
    "import torch.nn.functional as F\n",
    "from torch.utils.data import Dataset, DataLoader\n",
    "from torch.optim import AdamW\n",
    "from torch.optim.lr_scheduler import CosineAnnealingLR\n",
    "from torchvision import transforms\n",
    "from torchvision.models import vgg16, VGG16_Weights\n",
    "from PIL import Image\n",
    "from tqdm.auto import tqdm\n",
    "\n",
    "import matplotlib.pyplot as plt\n",
    "import cv2"
   ]
  },
  {
   "cell_type": "code",
   "execution_count": 11,
   "id": "31356d90",
   "metadata": {},
   "outputs": [],
   "source": [
    "# Metrics for evaluation\n",
    "from sklearn.metrics import (\n",
    "    accuracy_score,\n",
    "    precision_score,\n",
    "    recall_score,\n",
    "    f1_score,\n",
    "    roc_auc_score,\n",
    "    confusion_matrix,\n",
    "    classification_report,\n",
    ")"
   ]
  },
  {
   "cell_type": "markdown",
   "id": "85af3102",
   "metadata": {},
   "source": [
    "#### Constant Declaration"
   ]
  },
  {
   "cell_type": "code",
   "execution_count": 12,
   "id": "a6dd2fd0",
   "metadata": {},
   "outputs": [],
   "source": [
    "\n",
    "import torch\n",
    "import os\n",
    "\n",
    "DATASET_ROOT=\"./Dataset\"\n",
    "\n",
    "TRAIN_DIR=f\"{DATASET_ROOT}/Train\"\n",
    "VAL_DIR=f\"{DATASET_ROOT}/Validation\"\n",
    "TEST_DIR=f\"{DATASET_ROOT}/Test\"\n",
    "OUTPUT_DIR = \"./output\"\n",
    "\n",
    "MODEL_CHECKPOINT_PATH=\"./deepfake_cnn.pt\"\n",
    "\n",
    "DEVICE = \"cuda\" if torch.cuda.is_available() else \"cpu\"\n",
    "EPOCHS = 5\n",
    "BATCH_SIZE = 48\n",
    "IMG_SIZE = 244\n",
    "NUM_WORKERS = 4\n",
    "WARMUP_EPOCHS = 3\n",
    "LR_HEAD        = 1e-3\n",
    "LR_BACKBONE    = 3e-4\n",
    "WEIGHT_DECAY   = 1e-4\n",
    "MIXUP_ALPHA    = 0.4\n",
    "MIXUP_PROB     = 0.8\n",
    "\n",
    "LABELS = [\"real\", \"fake\"]\n",
    "os.makedirs(OUTPUT_DIR, exist_ok=True)\n"
   ]
  },
  {
   "cell_type": "code",
   "execution_count": 13,
   "id": "49dfe90f",
   "metadata": {},
   "outputs": [
    {
     "name": "stdout",
     "output_type": "stream",
     "text": [
      "== Environment / Device Info ==\n",
      "OS          : Windows 11 (10.0.26100)\n",
      "Python      : 3.13.5\n",
      "PyTorch     : 2.7.1+cu118\n",
      "OpenCV      : 4.12.0\n",
      "NumPy       : 2.1.3\n",
      "CUDA        : available (devices=1)\n",
      "CUDA runtime: 11.8\n",
      "cuDNN       : 90100\n",
      "  GPU[0]     : NVIDIA GeForce RTX 4050 Laptop GPU | VRAM: 6.0 GB | CC: 8.9\n",
      "Selected    : cuda\n"
     ]
    }
   ],
   "source": [
    "# Device and environment check\n",
    "import platform\n",
    "import numpy as np\n",
    "\n",
    "print(\"== Environment / Device Info ==\")\n",
    "print(f\"OS          : {platform.system()} {platform.release()} ({platform.version()})\")\n",
    "print(f\"Python      : {platform.python_version()}\")\n",
    "print(f\"PyTorch     : {torch.__version__}\")\n",
    "try:\n",
    "    import cv2 as _cv2\n",
    "    print(f\"OpenCV      : {_cv2.__version__}\")\n",
    "except Exception:\n",
    "    print(\"OpenCV      : not installed\")\n",
    "print(f\"NumPy       : {np.__version__}\")\n",
    "\n",
    "if torch.cuda.is_available():\n",
    "    n = torch.cuda.device_count()\n",
    "    print(f\"CUDA        : available (devices={n})\")\n",
    "    print(f\"CUDA runtime: {torch.version.cuda}\")\n",
    "    try:\n",
    "        print(f\"cuDNN       : {torch.backends.cudnn.version()}\")\n",
    "    except Exception:\n",
    "        print(\"cuDNN       : unknown\")\n",
    "    for i in range(n):\n",
    "        props = torch.cuda.get_device_properties(i)\n",
    "        total_gb = props.total_memory / (1024**3)\n",
    "        cc = f\"{props.major}.{props.minor}\"\n",
    "        print(f\"  GPU[{i}]     : {props.name} | VRAM: {total_gb:.1f} GB | CC: {cc}\")\n",
    "else:\n",
    "    print(\"CUDA        : not available -> using CPU\")\n",
    "print(f\"Selected    : {DEVICE}\")"
   ]
  },
  {
   "cell_type": "markdown",
   "id": "a419bf37",
   "metadata": {},
   "source": [
    "#### Model Setup"
   ]
  },
  {
   "cell_type": "code",
   "execution_count": 14,
   "id": "62461c19",
   "metadata": {},
   "outputs": [],
   "source": [
    "import os, io, math, random, glob\n",
    "from pathlib import Path\n",
    "\n",
    "import numpy as np\n",
    "import torch, torch.nn as nn\n",
    "import torch.nn.functional as F\n",
    "from torch.utils.data import Dataset, DataLoader\n",
    "from torch.optim import AdamW\n",
    "from torch.optim.lr_scheduler import CosineAnnealingLR\n",
    "from torchvision import transforms\n",
    "from torchvision.models import vgg16, VGG16_Weights\n",
    "from PIL import Image\n",
    "from tqdm.auto import tqdm\n",
    "\n",
    "import matplotlib.pyplot as plt\n",
    "import cv2\n",
    "\n",
    "# Spatial Rich Model Layer\n",
    "class SRMConv(nn.Module):\n",
    "    \"\"\"\n",
    "    Fixed high-pass SRM filters (3 kernels) applied depthwise to RGB -> 9ch -> 1x1 fuse -> 3ch.\n",
    "    \"\"\"\n",
    "    def __init__(self):\n",
    "        super().__init__()\n",
    "        k = torch.tensor(\n",
    "            [\n",
    "                [[0, -1, 0], [-1, 4, -1], [0, -1, 0]],\n",
    "                [[-1, 2, -1], [2, -4, 2], [-1, 2, -1]],\n",
    "                [[0, 0, 0], [0, 1, -1], [0, -1, 0]],\n",
    "            ],\n",
    "            dtype=torch.float32,\n",
    "        ).unsqueeze(1)  # (3,1,3,3)\n",
    "\n",
    "        # Depthwise conv: 3 input chans, 9 output chans, groups=3 -> 3 outputs per input group\n",
    "        self.depthwise = nn.Conv2d(\n",
    "            in_channels=3, out_channels=9, kernel_size=3, padding=1, bias=False, groups=3\n",
    "        )\n",
    "        with torch.no_grad():\n",
    "            # Repeat the 3 kernels for each of the 3 channel groups -> (9,1,3,3)\n",
    "            kernels = k.repeat(3, 1, 1, 1)\n",
    "            self.depthwise.weight.copy_(kernels)\n",
    "        for p in self.depthwise.parameters():\n",
    "            p.requires_grad = False  # fixed SRM filters\n",
    "\n",
    "        self.fuse = nn.Conv2d(9, 3, kernel_size=1, bias=False)  # learnable 1x1 to adapt SRM outputs\n",
    "\n",
    "    def forward(self, x):\n",
    "        x = self.depthwise(x)\n",
    "        x = self.fuse(x)\n",
    "        return x\n",
    "\n",
    "# Forensic Model with VGG16 Backbone\n",
    "class ForensicVGG16(nn.Module):\n",
    "    \"\"\"\n",
    "    SRM -> VGG16 conv features -> GAP head (BN+Dropout+Linear) -> 1 logit (real/fake).\n",
    "    \"\"\"\n",
    "    def __init__(self, pretrained=True, dropout=0.4):\n",
    "        super().__init__()\n",
    "        self.srm = SRMConv()\n",
    "        self.backbone = vgg16(weights=VGG16_Weights.IMAGENET1K_FEATURES if pretrained else None).features\n",
    "        self.pool = nn.AdaptiveAvgPool2d(1)\n",
    "        self.head = nn.Sequential(\n",
    "            nn.Flatten(),\n",
    "            nn.BatchNorm1d(512),\n",
    "            nn.Dropout(dropout),\n",
    "            nn.Linear(512, 1),\n",
    "        )\n",
    "\n",
    "    def forward(self, x):\n",
    "        x = self.srm(x)\n",
    "        x = self.backbone(x)\n",
    "        x = self.pool(x)\n",
    "        x = self.head(x).squeeze(1)  # (B,)\n",
    "        return x\n",
    "\n"
   ]
  },
  {
   "cell_type": "markdown",
   "id": "25cfdb3c",
   "metadata": {},
   "source": [
    "#### Data Preprocessing Setup"
   ]
  },
  {
   "cell_type": "code",
   "execution_count": 15,
   "id": "65d53863",
   "metadata": {},
   "outputs": [],
   "source": [
    "import os, io, math, random, glob\n",
    "from pathlib import Path\n",
    "\n",
    "import numpy as np\n",
    "import torch, torch.nn as nn\n",
    "import torch.nn.functional as F\n",
    "from torch.utils.data import Dataset, DataLoader\n",
    "from torch.optim import AdamW\n",
    "from torch.optim.lr_scheduler import CosineAnnealingLR\n",
    "from torchvision import transforms\n",
    "from torchvision.models import vgg16, VGG16_Weights\n",
    "from PIL import Image\n",
    "from tqdm.auto import tqdm\n",
    "\n",
    "import matplotlib.pyplot as plt\n",
    "import cv2\n",
    "\n",
    "# Data Augmentations Layer - increase data diversity\n",
    "class RandomJPEG:\n",
    "    def __init__(self, qmin=40, qmax=100, p=0.7):\n",
    "        self.qmin, self.qmax, self.p = qmin, qmax, p\n",
    "    def __call__(self, img: Image.Image):\n",
    "        if random.random() > self.p:\n",
    "            return img\n",
    "        buf = io.BytesIO()\n",
    "        img.save(buf, format=\"JPEG\", quality=random.randint(self.qmin, self.qmax))\n",
    "        buf.seek(0)\n",
    "        return Image.open(buf).convert(\"RGB\")\n",
    "\n",
    "# Gaussian Noise Layer - regulate data to prevent overfitting\n",
    "class AddGaussianNoise(torch.nn.Module):\n",
    "    def __init__(self, std=0.01, p=0.5):\n",
    "        super().__init__()\n",
    "        self.std, self.p = std, p\n",
    "    def forward(self, x):\n",
    "        if random.random() > self.p:\n",
    "            return x\n",
    "        return x + torch.randn_like(x) * self.std\n",
    "\n",
    "# Dataset Class - Format the Image to fit the model\n",
    "class ImageFolderBinary(Dataset):\n",
    "    \"\"\"\n",
    "    root/\n",
    "      real/*.jpg|png\n",
    "      fake/*.jpg|png\n",
    "    Returns (tensor, float_label)\n",
    "    \"\"\"\n",
    "    def __init__(self, root, transform=None):\n",
    "        self.root = Path(root)\n",
    "        self.samples = []\n",
    "        for cls, label in [(\"real\", 0.0), (\"fake\", 1.0)]:\n",
    "            for p in sorted((self.root / cls).glob(\"*\")):\n",
    "                if p.suffix.lower() in {\".jpg\",\".jpeg\",\".png\",\".bmp\",\".webp\"}:\n",
    "                    self.samples.append((str(p), label))\n",
    "        assert len(self.samples), f\"No images found under {root}\"\n",
    "        self.transform = transform or get_transforms(train=True)\n",
    "\n",
    "    def __len__(self): return len(self.samples)\n",
    "\n",
    "    def __getitem__(self, idx):\n",
    "        path, label = self.samples[idx]\n",
    "        img = Image.open(path).convert(\"RGB\")\n",
    "        img = self.transform(img)\n",
    "        return img, torch.tensor(label, dtype=torch.float32)\n",
    "    \n",
    "# Data Augmentation Transforms\n",
    "def get_transforms(train=True):\n",
    "    return transforms.Compose([\n",
    "        transforms.Resize(int(IMG_SIZE * 1.1)),\n",
    "        transforms.RandomResizedCrop(IMG_SIZE, scale=(0.85, 1.0), ratio=(0.95, 1.05)) if train else transforms.CenterCrop(IMG_SIZE),\n",
    "        RandomJPEG(40, 100, p=0.7 if train else 0.0),\n",
    "        transforms.RandomHorizontalFlip(p=0.5 if train else 0.0),\n",
    "        transforms.ColorJitter(brightness=0.1, contrast=0.1, saturation=0.05, hue=0.02) if train else transforms.Lambda(lambda x: x),\n",
    "        transforms.ToTensor(),\n",
    "        AddGaussianNoise(std=0.01, p=0.5 if train else 0.0),\n",
    "        transforms.GaussianBlur(kernel_size=3, sigma=(0.1, 1.0)) if train else transforms.Lambda(lambda x: x),\n",
    "        transforms.Normalize([0.485,0.456,0.406],[0.229,0.224,0.225]),\n",
    "    ])\n",
    "\n",
    "# Mixup Collate Function - reduce overconfidence on ambiguous cases\n",
    "def mixup_collate(batch, alpha=MIXUP_ALPHA, p=MIXUP_PROB):\n",
    "    imgs = torch.stack([b[0] for b in batch], dim=0)\n",
    "    labels = torch.stack([b[1] for b in batch], dim=0)  # (B,)\n",
    "    if random.random() > p or len(batch) < 2:\n",
    "        return imgs, labels\n",
    "    lam = torch.distributions.Beta(alpha, alpha).sample().item()\n",
    "    perm = torch.randperm(imgs.size(0))\n",
    "    mixed_imgs = lam * imgs + (1 - lam) * imgs[perm]\n",
    "    mixed_labels = lam * labels + (1 - lam) * labels[perm]\n",
    "    return mixed_imgs, mixed_labels\n"
   ]
  },
  {
   "cell_type": "markdown",
   "id": "a4ac90ab",
   "metadata": {},
   "source": [
    "#### Utilities Declaration"
   ]
  },
  {
   "cell_type": "code",
   "execution_count": 16,
   "id": "845de0e8",
   "metadata": {},
   "outputs": [],
   "source": [
    "def get_last_conv(module: nn.Module):\n",
    "    last = None\n",
    "    for m in module.modules():\n",
    "        if isinstance(m, nn.Conv2d):\n",
    "            last = m\n",
    "    return last\n",
    "\n",
    "def de_normalize(img_tensor):\n",
    "    mean = torch.tensor([0.485,0.456,0.406], device=img_tensor.device).view(3,1,1)\n",
    "    std  = torch.tensor([0.229,0.224,0.225], device=img_tensor.device).view(3,1,1)\n",
    "    return (img_tensor * std + mean).clamp(0,1)\n",
    "\n",
    "def overlay_cam(img_tensor, cam_tensor):\n",
    "    \"\"\"Return RGB uint8 overlay for visualization.\"\"\"\n",
    "    img = (de_normalize(img_tensor).permute(1,2,0).cpu().numpy() * 255).astype(np.uint8)  # HWC\n",
    "    cam = (cam_tensor.cpu().numpy() * 255).astype(np.uint8)\n",
    "    cam = cv2.resize(cam, (img.shape[1], img.shape[0]))\n",
    "    heatmap = cv2.applyColorMap(cam, cv2.COLORMAP_JET)\n",
    "    heatmap = cv2.cvtColor(heatmap, cv2.COLOR_BGR2RGB)\n",
    "    overlay = (0.45 * heatmap + 0.55 * img).astype(np.uint8)\n",
    "    return overlay\n",
    "\n",
    "def set_trainable(mod, flag: bool):\n",
    "    for p in mod.parameters():\n",
    "        p.requires_grad = flag\n",
    "\n",
    "def accuracy_from_logits(logits, labels):\n",
    "    preds = (torch.sigmoid(logits) >= 0.5).float()\n",
    "    return (preds == labels).float().mean().item()"
   ]
  },
  {
   "cell_type": "markdown",
   "id": "330fcd16",
   "metadata": {},
   "source": [
    "### **Implementation & Build**"
   ]
  },
  {
   "cell_type": "markdown",
   "id": "a4f25fa6",
   "metadata": {},
   "source": [
    "#### DataLoaders"
   ]
  },
  {
   "cell_type": "code",
   "execution_count": 11,
   "id": "73638030",
   "metadata": {},
   "outputs": [],
   "source": [
    "train_ds = ImageFolderBinary(TRAIN_DIR, transform=get_transforms(train=True))\n",
    "val_ds   = ImageFolderBinary(VAL_DIR,   transform=get_transforms(train=False))\n",
    "\n",
    "train_dl = DataLoader(train_ds, batch_size=BATCH_SIZE, shuffle=True,\n",
    "                      num_workers=NUM_WORKERS, pin_memory=True, collate_fn=mixup_collate)\n",
    "val_dl = DataLoader(val_ds,   batch_size=BATCH_SIZE, shuffle=False,\n",
    "                      num_workers=NUM_WORKERS, pin_memory=True,\n",
    "                      collate_fn=lambda b: (torch.stack([x for x,_ in b]), torch.stack([y for _,y in b])) )"
   ]
  },
  {
   "cell_type": "markdown",
   "id": "36d364b0",
   "metadata": {},
   "source": [
    "#### Models"
   ]
  },
  {
   "cell_type": "markdown",
   "id": "c1fca5ec",
   "metadata": {},
   "source": [
    "##### Model Declaration "
   ]
  },
  {
   "cell_type": "code",
   "execution_count": 12,
   "id": "963ca2d3",
   "metadata": {},
   "outputs": [],
   "source": [
    "model = ForensicVGG16(pretrained=True, dropout=0.4).to(DEVICE)\n",
    "criterion = nn.BCEWithLogitsLoss()"
   ]
  },
  {
   "cell_type": "code",
   "execution_count": 13,
   "id": "6403f8b4",
   "metadata": {},
   "outputs": [
    {
     "name": "stdout",
     "output_type": "stream",
     "text": [
      "== Dataloader tuning ==\n",
      "Workers: 4 -> 0\n",
      "Batch size: 48 -> 48\n",
      "Train steps/epoch: 2917 | Val steps/epoch: 822\n"
     ]
    }
   ],
   "source": [
    "# Batch-size and DataLoader tuning (Windows/GPU)\n",
    "import platform, math, gc\n",
    "print(\"== Dataloader tuning ==\")\n",
    "\n",
    "# Prefer conservative workers on Windows notebooks to avoid DataLoader hangs\n",
    "recommended_workers = 0 if platform.system() == \"Windows\" else min(NUM_WORKERS, 4)\n",
    "\n",
    "def _can_fit_batch(bs: int) -> bool:\n",
    "    if DEVICE != \"cuda\":\n",
    "        return True\n",
    "    try:\n",
    "        torch.cuda.empty_cache()\n",
    "        # Use train mode to reflect typical memory pattern (activations), but don't step optimizer\n",
    "        model.train()\n",
    "        dummy = torch.randn(bs, 3, IMG_SIZE, IMG_SIZE, device=DEVICE)\n",
    "        target = torch.rand(bs, device=DEVICE)\n",
    "        with torch.amp.autocast('cuda', enabled=(DEVICE == \"cuda\")):\n",
    "            logits = model(dummy)\n",
    "            loss = criterion(logits, target)\n",
    "        # Backward once to include grad memory, then clear\n",
    "        loss.backward()\n",
    "        model.zero_grad(set_to_none=True)\n",
    "        del dummy, target, logits, loss\n",
    "        torch.cuda.synchronize()\n",
    "        torch.cuda.empty_cache()\n",
    "        return True\n",
    "    except RuntimeError as e:\n",
    "        msg = str(e).lower()\n",
    "        if \"out of memory\" in msg or \"cuda error\" in msg:\n",
    "            torch.cuda.empty_cache()\n",
    "            return False\n",
    "        raise\n",
    "\n",
    "# Heuristic search: start from current BATCH_SIZE (capped) and reduce on OOM\n",
    "if DEVICE == \"cuda\":\n",
    "    probe_start = max(8, min(BATCH_SIZE, 64))\n",
    "    bs_probe = probe_start\n",
    "    while bs_probe >= 1 and not _can_fit_batch(bs_probe):\n",
    "        bs_probe //= 2\n",
    "    recommended_bs = max(1, bs_probe)\n",
    "else:\n",
    "    # CPU default\n",
    "    recommended_bs = min(BATCH_SIZE, 8)\n",
    "\n",
    "old_bs, old_workers = BATCH_SIZE, NUM_WORKERS\n",
    "BATCH_SIZE = recommended_bs\n",
    "NUM_WORKERS = recommended_workers\n",
    "\n",
    "# Enable cuDNN autotune for speed if on CUDA\n",
    "if DEVICE == \"cuda\":\n",
    "    torch.backends.cudnn.benchmark = True\n",
    "\n",
    "# Rebuild DataLoaders with tuned settings\n",
    "train_dl = DataLoader(\n",
    "    train_ds,\n",
    "    batch_size=BATCH_SIZE,\n",
    "    shuffle=True,\n",
    "    num_workers=NUM_WORKERS,\n",
    "    pin_memory=(DEVICE == \"cuda\"),\n",
    "    collate_fn=mixup_collate,\n",
    ")\n",
    "val_dl = DataLoader(\n",
    "    val_ds,\n",
    "    batch_size=BATCH_SIZE,\n",
    "    shuffle=False,\n",
    "    num_workers=NUM_WORKERS,\n",
    "    pin_memory=(DEVICE == \"cuda\"),\n",
    "    collate_fn=lambda b: (torch.stack([x for x, _ in b]), torch.stack([y for _, y in b])),\n",
    ")\n",
    "\n",
    "steps_train = math.ceil(len(train_ds) / BATCH_SIZE)\n",
    "steps_val = math.ceil(len(val_ds) / BATCH_SIZE)\n",
    "print(f\"Workers: {old_workers} -> {NUM_WORKERS}\")\n",
    "print(f\"Batch size: {old_bs} -> {BATCH_SIZE}\")\n",
    "print(f\"Train steps/epoch: {steps_train} | Val steps/epoch: {steps_val}\")"
   ]
  },
  {
   "cell_type": "code",
   "execution_count": 14,
   "id": "3203b286",
   "metadata": {},
   "outputs": [],
   "source": [
    "# Evaluation helper (prints metrics, shows/saves CM and ROC)\n",
    "import os\n",
    "from sklearn.metrics import ConfusionMatrixDisplay, RocCurveDisplay, classification_report\n",
    "\n",
    "os.makedirs(OUTPUT_DIR, exist_ok=True)\n",
    "\n",
    "@torch.no_grad()\n",
    "def evaluate_and_report(dataloader, model, device, save_prefix=f\"{OUTPUT_DIR}/eval\"):\n",
    "    model.eval()\n",
    "    all_targets, all_probs = [], []\n",
    "    with tqdm(dataloader, desc=\"Reporting\", leave=False, dynamic_ncols=True) as pbar:\n",
    "        for imgs, labels in pbar:\n",
    "            imgs = imgs.to(device)\n",
    "            labels = labels.to(device)\n",
    "            logits = model(imgs)\n",
    "            probs = torch.sigmoid(logits).cpu().numpy()\n",
    "            all_probs.append(probs)\n",
    "            all_targets.append(labels.cpu().numpy())\n",
    "\n",
    "    y_true = np.concatenate(all_targets).ravel().astype(int)\n",
    "    y_probs = np.concatenate(all_probs).ravel()\n",
    "    y_pred = (y_probs >= 0.5).astype(int)\n",
    "\n",
    "    acc = accuracy_score(y_true, y_pred)\n",
    "    prec = precision_score(y_true, y_pred, zero_division=0)\n",
    "    rec = recall_score(y_true, y_pred, zero_division=0)\n",
    "    f1 = f1_score(y_true, y_pred, zero_division=0)\n",
    "    try:\n",
    "        auc = roc_auc_score(y_true, y_probs)\n",
    "    except Exception:\n",
    "        auc = float('nan')\n",
    "\n",
    "    print(\"=== Evaluation Report ===\")\n",
    "    print(f\"Accuracy : {acc:.4f}\")\n",
    "    print(f\"Precision: {prec:.4f}\")\n",
    "    print(f\"Recall   : {rec:.4f}\")\n",
    "    print(f\"F1-score : {f1:.4f}\")\n",
    "    print(f\"AUC      : {auc:.4f}\")\n",
    "    report_txt = classification_report(y_true, y_pred, target_names=LABELS, zero_division=0)\n",
    "    print(\"\\nClassification Report:\\n\", report_txt)\n",
    "\n",
    "    with open(f\"{save_prefix}_report.txt\", \"w\", encoding=\"utf-8\") as f:\n",
    "        f.write(\"Evaluation\\n\")\n",
    "        f.write(f\"Accuracy : {acc:.4f}\\n\")\n",
    "        f.write(f\"Precision: {prec:.4f}\\n\")\n",
    "        f.write(f\"Recall   : {rec:.4f}\\n\")\n",
    "        f.write(f\"F1-score : {f1:.4f}\\n\")\n",
    "        f.write(f\"AUC      : {auc:.4f}\\n\\n\")\n",
    "        f.write(report_txt)\n",
    "\n",
    "    # Confusion matrix\n",
    "    fig, ax = plt.subplots(figsize=(5,5))\n",
    "    ConfusionMatrixDisplay.from_predictions(y_true, y_pred, display_labels=LABELS, cmap=plt.cm.Blues, ax=ax)\n",
    "    plt.title(\"Confusion Matrix\")\n",
    "    plt.tight_layout()\n",
    "    cm_path = f\"{save_prefix}_confusion_matrix.png\"\n",
    "    fig.savefig(cm_path, dpi=150)\n",
    "    print(f\"Confusion matrix saved to {cm_path}\")\n",
    "    plt.show()\n",
    "\n",
    "    # ROC curve\n",
    "    try:\n",
    "        fig2, ax2 = plt.subplots(figsize=(6,6))\n",
    "        RocCurveDisplay.from_predictions(y_true, y_probs, name=\"model\", ax=ax2)\n",
    "        plt.title(\"ROC Curve\")\n",
    "        plt.tight_layout()\n",
    "        roc_path = f\"{save_prefix}_roc.png\"\n",
    "        fig2.savefig(roc_path, dpi=150)\n",
    "        print(f\"ROC plot saved to {roc_path}\")\n",
    "        plt.show()\n",
    "    except Exception as e:\n",
    "        print(\"Could not plot ROC:\", e)"
   ]
  },
  {
   "cell_type": "markdown",
   "id": "70ca5f9b",
   "metadata": {},
   "source": [
    "##### Stage 0: Freeze Backbone and train head only"
   ]
  },
  {
   "cell_type": "code",
   "execution_count": 15,
   "id": "5a434a34",
   "metadata": {},
   "outputs": [
    {
     "name": "stdout",
     "output_type": "stream",
     "text": [
      "== Warmup (head only) ==\n"
     ]
    },
    {
     "data": {
      "application/vnd.jupyter.widget-view+json": {
       "model_id": "c78037b035674060965a927ed19ed264",
       "version_major": 2,
       "version_minor": 0
      },
      "text/plain": [
       "Warmup 1/3:   0%|          | 0/2917 [00:00<?, ?it/s]"
      ]
     },
     "metadata": {},
     "output_type": "display_data"
    },
    {
     "data": {
      "application/vnd.jupyter.widget-view+json": {
       "model_id": "062af39cf28f402593db483f29c22e31",
       "version_major": 2,
       "version_minor": 0
      },
      "text/plain": [
       "Validate (warmup 1):   0%|          | 0/822 [00:00<?, ?it/s]"
      ]
     },
     "metadata": {},
     "output_type": "display_data"
    },
    {
     "name": "stdout",
     "output_type": "stream",
     "text": [
      "Warmup 1/3  TRAIN: loss=0.5408 acc=0.7452\n",
      "Warmup 1/3  VAL  : loss=0.4427 acc=0.7889 prec=0.7307 rec=0.9123 f1=0.8115 auc=0.9031\n",
      "  ✓ Saved best @ acc=0.7889 -> ./deepfake_cnn.pt\n"
     ]
    },
    {
     "data": {
      "application/vnd.jupyter.widget-view+json": {
       "model_id": "5203433411744e1695704a32495f3c92",
       "version_major": 2,
       "version_minor": 0
      },
      "text/plain": [
       "Warmup 2/3:   0%|          | 0/2917 [00:00<?, ?it/s]"
      ]
     },
     "metadata": {},
     "output_type": "display_data"
    },
    {
     "data": {
      "application/vnd.jupyter.widget-view+json": {
       "model_id": "02d1d6bddf5d4c9686193bd26f521be6",
       "version_major": 2,
       "version_minor": 0
      },
      "text/plain": [
       "Validate (warmup 2):   0%|          | 0/822 [00:00<?, ?it/s]"
      ]
     },
     "metadata": {},
     "output_type": "display_data"
    },
    {
     "name": "stdout",
     "output_type": "stream",
     "text": [
      "Warmup 2/3  TRAIN: loss=0.5214 acc=0.7636\n",
      "Warmup 2/3  VAL  : loss=0.4310 acc=0.7962 prec=0.7414 rec=0.9074 f1=0.8160 auc=0.9049\n",
      "  ✓ Saved best @ acc=0.7962 -> ./deepfake_cnn.pt\n"
     ]
    },
    {
     "data": {
      "application/vnd.jupyter.widget-view+json": {
       "model_id": "7d67a0a82e1e43f38d01036f776f10ab",
       "version_major": 2,
       "version_minor": 0
      },
      "text/plain": [
       "Warmup 3/3:   0%|          | 0/2917 [00:00<?, ?it/s]"
      ]
     },
     "metadata": {},
     "output_type": "display_data"
    },
    {
     "data": {
      "application/vnd.jupyter.widget-view+json": {
       "model_id": "ad13070d4d5b41c7b529eb8c43d1a167",
       "version_major": 2,
       "version_minor": 0
      },
      "text/plain": [
       "Validate (warmup 3):   0%|          | 0/822 [00:00<?, ?it/s]"
      ]
     },
     "metadata": {},
     "output_type": "display_data"
    },
    {
     "name": "stdout",
     "output_type": "stream",
     "text": [
      "Warmup 3/3  TRAIN: loss=0.5208 acc=0.7667\n",
      "Warmup 3/3  VAL  : loss=0.4516 acc=0.7859 prec=0.7207 rec=0.9311 f1=0.8125 auc=0.9050\n"
     ]
    },
    {
     "data": {
      "application/vnd.jupyter.widget-view+json": {
       "model_id": "813ef56796dd4d9fad29ce6828423070",
       "version_major": 2,
       "version_minor": 0
      },
      "text/plain": [
       "Reporting:   0%|          | 0/822 [00:00<?, ?it/s]"
      ]
     },
     "metadata": {},
     "output_type": "display_data"
    },
    {
     "name": "stdout",
     "output_type": "stream",
     "text": [
      "=== Evaluation Report ===\n",
      "Accuracy : 0.7860\n",
      "Precision: 0.7208\n",
      "Recall   : 0.9311\n",
      "F1-score : 0.8126\n",
      "AUC      : 0.9050\n",
      "\n",
      "Classification Report:\n",
      "               precision    recall  f1-score   support\n",
      "\n",
      "        real       0.90      0.64      0.75     19787\n",
      "        fake       0.72      0.93      0.81     19641\n",
      "\n",
      "    accuracy                           0.79     39428\n",
      "   macro avg       0.81      0.79      0.78     39428\n",
      "weighted avg       0.81      0.79      0.78     39428\n",
      "\n",
      "Confusion matrix saved to ./output/eval_warmup_confusion_matrix.png\n"
     ]
    },
    {
     "data": {
      "image/png": "[encoded data removed]",
      "text/plain": [
       "<Figure size 500x500 with 2 Axes>"
      ]
     },
     "metadata": {},
     "output_type": "display_data"
    },
    {
     "name": "stdout",
     "output_type": "stream",
     "text": [
      "ROC plot saved to ./output/eval_warmup_roc.png\n"
     ]
    },
    {
     "data": {
      "image/png": "[encoded data removed]",
      "text/plain": [
       "<Figure size 600x600 with 1 Axes>"
      ]
     },
     "metadata": {},
     "output_type": "display_data"
    }
   ],
   "source": [
    "set_trainable(model.backbone, False)\n",
    "set_trainable(model.head, True)\n",
    "set_trainable(model.srm.fuse, True)\n",
    "optimizer = AdamW([p for p in model.parameters() if p.requires_grad], lr=LR_HEAD, weight_decay=WEIGHT_DECAY)\n",
    "scaler = torch.amp.GradScaler(enabled=(DEVICE==\"cuda\"))\n",
    "\n",
    "best_val_acc, best_state = -1.0, None\n",
    "\n",
    "from sklearn.metrics import accuracy_score, precision_score, recall_score, f1_score, roc_auc_score, confusion_matrix\n",
    "\n",
    "\n",
    "def run_epoch(dl, train=True, desc=\"\"):\n",
    "    model.train(mode=train)\n",
    "    total_loss, total_n = 0.0, 0\n",
    "    all_targets, all_probs = [], []\n",
    "\n",
    "    with tqdm(dl, desc=desc, leave=False, dynamic_ncols=True) as pbar:\n",
    "        for imgs, labels in pbar:\n",
    "            imgs = imgs.to(DEVICE, non_blocking=True)\n",
    "            labels = labels.to(DEVICE, non_blocking=True)\n",
    "            if train:\n",
    "                optimizer.zero_grad(set_to_none=True)\n",
    "            with torch.amp.autocast('cuda', enabled=(DEVICE==\"cuda\")):\n",
    "                logits = model(imgs)\n",
    "                loss = criterion(logits, labels)\n",
    "            if train:\n",
    "                scaler.scale(loss).backward()\n",
    "                scaler.step(optimizer)\n",
    "                scaler.update()\n",
    "            probs = torch.sigmoid(logits.detach())\n",
    "            all_probs.append(probs.cpu().numpy())\n",
    "            all_targets.append(labels.detach().cpu().numpy())\n",
    "            bs = imgs.size(0)\n",
    "            total_loss += float(loss) * bs\n",
    "            total_n    += bs\n",
    "            # running acc for pbar\n",
    "            run_acc = accuracy_from_logits(logits.detach(), labels)\n",
    "            pbar.set_postfix(loss=total_loss/total_n, acc=run_acc)\n",
    "\n",
    "    # aggregate\n",
    "    y_true = np.concatenate(all_targets).ravel()\n",
    "    y_true_bin = (y_true >= 0.5).astype(int)\n",
    "    y_probs = np.concatenate(all_probs).ravel()\n",
    "    y_pred = (y_probs >= 0.5).astype(int)\n",
    "\n",
    "    acc = float(accuracy_score(y_true_bin, y_pred))\n",
    "    prec = float(precision_score(y_true_bin, y_pred, zero_division=0))\n",
    "    rec = float(recall_score(y_true_bin, y_pred, zero_division=0))\n",
    "    f1 = float(f1_score(y_true_bin, y_pred, zero_division=0))\n",
    "    try:\n",
    "        auc = float(roc_auc_score(y_true_bin, y_probs))\n",
    "    except Exception:\n",
    "        auc = float('nan')\n",
    "    conf = confusion_matrix(y_true_bin, y_pred)\n",
    "\n",
    "    return total_loss/total_n, acc, prec, rec, f1, auc, conf\n",
    "\n",
    "print(\"== Warmup (head only) ==\")\n",
    "for ep in range(1, WARMUP_EPOCHS+1):\n",
    "    tr_loss, tr_acc, tr_prec, tr_rec, tr_f1, tr_auc, tr_conf = run_epoch(train_dl, train=True,  desc=f\"Warmup {ep}/{WARMUP_EPOCHS}\")\n",
    "    va_loss, va_acc, va_prec, va_rec, va_f1, va_auc, va_conf = run_epoch(val_dl,   train=False, desc=f\"Validate (warmup {ep})\")\n",
    "    print(f\"Warmup {ep}/{WARMUP_EPOCHS}  TRAIN: loss={tr_loss:.4f} acc={tr_acc:.4f}\")\n",
    "    print(f\"Warmup {ep}/{WARMUP_EPOCHS}  VAL  : loss={va_loss:.4f} acc={va_acc:.4f} prec={va_prec:.4f} rec={va_rec:.4f} f1={va_f1:.4f} auc={va_auc:.4f}\")\n",
    "    if va_acc > best_val_acc:\n",
    "        best_val_acc = va_acc\n",
    "        best_state = {k: v.cpu() for k, v in model.state_dict().items()}\n",
    "        torch.save(best_state, MODEL_CHECKPOINT_PATH)\n",
    "        print(f\"  ✓ Saved best @ acc={best_val_acc:.4f} -> {MODEL_CHECKPOINT_PATH}\")\n",
    "\n",
    "# Evaluate right after warmup\n",
    "evaluate_and_report(val_dl, model, DEVICE, save_prefix=f\"{OUTPUT_DIR}/eval_warmup\")"
   ]
  },
  {
   "cell_type": "markdown",
   "id": "5258a1ee",
   "metadata": {},
   "source": [
    "##### Step 1: Unfreeze top layers of backbone, discriminative LRs + cosine"
   ]
  },
  {
   "cell_type": "code",
   "execution_count": 16,
   "id": "a159138f",
   "metadata": {},
   "outputs": [
    {
     "name": "stdout",
     "output_type": "stream",
     "text": [
      "== Fine-tune top blocks ==\n"
     ]
    },
    {
     "data": {
      "application/vnd.jupyter.widget-view+json": {
       "model_id": "c0a6764da8e2466e8ecceea03531f23a",
       "version_major": 2,
       "version_minor": 0
      },
      "text/plain": [
       "Train 1/2:   0%|          | 0/2917 [00:00<?, ?it/s]"
      ]
     },
     "metadata": {},
     "output_type": "display_data"
    },
    {
     "data": {
      "application/vnd.jupyter.widget-view+json": {
       "model_id": "0906abd67ab44a3980480ab8d024c7a2",
       "version_major": 2,
       "version_minor": 0
      },
      "text/plain": [
       "Validate 1:   0%|          | 0/822 [00:00<?, ?it/s]"
      ]
     },
     "metadata": {},
     "output_type": "display_data"
    },
    {
     "name": "stdout",
     "output_type": "stream",
     "text": [
      "Train 1/2  TRAIN: loss=0.2969 acc=0.9246\n",
      "Train 1/2  VAL  : loss=0.2450 acc=0.9094 prec=0.8585 rec=0.9796 f1=0.9150 auc=0.9832\n",
      "  ✓ Saved best @ acc=0.9094 -> ./deepfake_cnn.pt\n"
     ]
    },
    {
     "data": {
      "application/vnd.jupyter.widget-view+json": {
       "model_id": "10c0a7b1f1f040dc9f72c63726d7fc0e",
       "version_major": 2,
       "version_minor": 0
      },
      "text/plain": [
       "Train 2/2:   0%|          | 0/2917 [00:00<?, ?it/s]"
      ]
     },
     "metadata": {},
     "output_type": "display_data"
    },
    {
     "data": {
      "application/vnd.jupyter.widget-view+json": {
       "model_id": "f9be858f94ac42a1b772bd4b5eb6cb1d",
       "version_major": 2,
       "version_minor": 0
      },
      "text/plain": [
       "Validate 2:   0%|          | 0/822 [00:00<?, ?it/s]"
      ]
     },
     "metadata": {},
     "output_type": "display_data"
    },
    {
     "name": "stdout",
     "output_type": "stream",
     "text": [
      "Train 2/2  TRAIN: loss=0.2453 acc=0.9437\n",
      "Train 2/2  VAL  : loss=0.1408 acc=0.9698 prec=0.9644 rec=0.9754 f1=0.9699 auc=0.9956\n",
      "  ✓ Saved best @ acc=0.9698 -> ./deepfake_cnn.pt\n",
      "Best validation accuracy: 0.9698\n"
     ]
    }
   ],
   "source": [
    "for m in list(model.backbone.children())[-10:]:\n",
    "    set_trainable(m, True)\n",
    "\n",
    "optimizer = AdamW(\n",
    "    [\n",
    "        {\"params\": model.head.parameters(), \"lr\": LR_HEAD},\n",
    "        {\"params\": filter(lambda p: p.requires_grad, model.backbone.parameters()), \"lr\": LR_BACKBONE},\n",
    "        {\"params\": model.srm.fuse.parameters(), \"lr\": LR_BACKBONE},\n",
    "    ],\n",
    "    weight_decay=WEIGHT_DECAY\n",
    ")\n",
    "scheduler = CosineAnnealingLR(optimizer, T_max=EPOCHS - WARMUP_EPOCHS)\n",
    "\n",
    "print(\"== Fine-tune top blocks ==\")\n",
    "for ep in range(1, EPOCHS - WARMUP_EPOCHS + 1):\n",
    "    tr_loss, tr_acc, tr_prec, tr_rec, tr_f1, tr_auc, tr_conf = run_epoch(train_dl, train=True,  desc=f\"Train {ep}/{EPOCHS-WARMUP_EPOCHS}\")\n",
    "    va_loss, va_acc, va_prec, va_rec, va_f1, va_auc, va_conf = run_epoch(val_dl,   train=False, desc=f\"Validate {ep}\")\n",
    "    scheduler.step()\n",
    "\n",
    "    print(f\"Train {ep}/{EPOCHS-WARMUP_EPOCHS}  TRAIN: loss={tr_loss:.4f} acc={tr_acc:.4f}\")\n",
    "    print(f\"Train {ep}/{EPOCHS-WARMUP_EPOCHS}  VAL  : loss={va_loss:.4f} acc={va_acc:.4f} prec={va_prec:.4f} rec={va_rec:.4f} f1={va_f1:.4f} auc={va_auc:.4f}\")\n",
    "\n",
    "    if va_acc > best_val_acc:\n",
    "        best_val_acc = va_acc\n",
    "        best_state = {k: v.cpu() for k, v in model.state_dict().items()}\n",
    "        torch.save(best_state, MODEL_CHECKPOINT_PATH)\n",
    "        print(f\"  ✓ Saved best @ acc={best_val_acc:.4f} -> {MODEL_CHECKPOINT_PATH}\")\n",
    "\n",
    "print(f\"Best validation accuracy: {best_val_acc:.4f}\")\n",
    "# Load best weights for visualization\n",
    "if best_state is not None:\n",
    "    model.load_state_dict(best_state)\n",
    "else:\n",
    "    torch.save({k: v.cpu() for k,v in model.state_dict().items()}, MODEL_CHECKPOINT_PATH)"
   ]
  },
  {
   "cell_type": "markdown",
   "id": "7b71813f",
   "metadata": {},
   "source": [
    "### **Model Evaluation & Testing**"
   ]
  },
  {
   "cell_type": "code",
   "execution_count": 17,
   "id": "c89cad74",
   "metadata": {},
   "outputs": [
    {
     "data": {
      "application/vnd.jupyter.widget-view+json": {
       "model_id": "4a401aa38df940c5a5ffe3771cc914a6",
       "version_major": 2,
       "version_minor": 0
      },
      "text/plain": [
       "Reporting:   0%|          | 0/822 [00:00<?, ?it/s]"
      ]
     },
     "metadata": {},
     "output_type": "display_data"
    },
    {
     "name": "stdout",
     "output_type": "stream",
     "text": [
      "=== Evaluation Report ===\n",
      "Accuracy : 0.9698\n",
      "Precision: 0.9644\n",
      "Recall   : 0.9754\n",
      "F1-score : 0.9699\n",
      "AUC      : 0.9956\n",
      "\n",
      "Classification Report:\n",
      "               precision    recall  f1-score   support\n",
      "\n",
      "        real       0.98      0.96      0.97     19787\n",
      "        fake       0.96      0.98      0.97     19641\n",
      "\n",
      "    accuracy                           0.97     39428\n",
      "   macro avg       0.97      0.97      0.97     39428\n",
      "weighted avg       0.97      0.97      0.97     39428\n",
      "\n",
      "Confusion matrix saved to ./output/eval_final_confusion_matrix.png\n"
     ]
    },
    {
     "data": {
      "image/png": "[encoded data removed]",
      "text/plain": [
       "<Figure size 500x500 with 2 Axes>"
      ]
     },
     "metadata": {},
     "output_type": "display_data"
    },
    {
     "name": "stdout",
     "output_type": "stream",
     "text": [
      "ROC plot saved to ./output/eval_final_roc.png\n"
     ]
    },
    {
     "data": {
      "image/png": "[encoded data removed]",
      "text/plain": [
       "<Figure size 600x600 with 1 Axes>"
      ]
     },
     "metadata": {},
     "output_type": "display_data"
    }
   ],
   "source": [
    "# Final evaluation report after full training on validation set\n",
    "evaluate_and_report(val_dl, model, DEVICE, save_prefix=f\"{OUTPUT_DIR}/eval_final\")"
   ]
  },
  {
   "cell_type": "markdown",
   "id": "e58215ff",
   "metadata": {},
   "source": [
    "### **Data Entry**"
   ]
  },
  {
   "cell_type": "code",
   "execution_count": 18,
   "id": "3891b19a",
   "metadata": {},
   "outputs": [
    {
     "name": "stdout",
     "output_type": "stream",
     "text": [
      "Loaded checkpoint from ./deepfake_cnn.pt\n",
      "Upload an image or enter a local path, then click Predict:\n"
     ]
    },
    {
     "data": {
      "application/vnd.jupyter.widget-view+json": {
       "model_id": "31cf0ca487ae4054a0198e8e612499af",
       "version_major": 2,
       "version_minor": 0
      },
      "text/plain": [
       "HBox(children=(FileUpload(value=(), accept='.jpg,.jpeg,.png,.bmp,.webp', description='Upload'), Text(value='',…"
      ]
     },
     "metadata": {},
     "output_type": "display_data"
    },
    {
     "data": {
      "application/vnd.jupyter.widget-view+json": {
       "model_id": "31ea7f6944804b1982df53aca3c420fc",
       "version_major": 2,
       "version_minor": 0
      },
      "text/plain": [
       "Output()"
      ]
     },
     "metadata": {},
     "output_type": "display_data"
    }
   ],
   "source": [
    "# Simple GUI to import an image and test the loaded model\n",
    "# Uses ipywidgets for a lightweight UI in the notebook\n",
    "\n",
    "import os, io\n",
    "from typing import Optional\n",
    "from PIL import Image\n",
    "\n",
    "try:\n",
    "    import ipywidgets as widgets\n",
    "    from IPython.display import display, clear_output\n",
    "except Exception as e:\n",
    "    print(\"ipywidgets is required for the GUI. If not installed, run:\")\n",
    "    print(\"%pip install ipywidgets\")\n",
    "    raise\n",
    "\n",
    "# Ensure model exists and is on the right device\n",
    "if 'model' not in globals():\n",
    "    raise RuntimeError(\"Model is not defined. Please run the model declaration cell above.\")\n",
    "\n",
    "# Try to load checkpoint weights if available\n",
    "try:\n",
    "    if os.path.exists(MODEL_CHECKPOINT_PATH):\n",
    "        state = torch.load(MODEL_CHECKPOINT_PATH, map_location='cpu')\n",
    "        try:\n",
    "            model.load_state_dict(state)\n",
    "        except Exception:\n",
    "            model.load_state_dict(state, strict=False)\n",
    "        model.to(DEVICE)\n",
    "        print(f\"Loaded checkpoint from {MODEL_CHECKPOINT_PATH}\")\n",
    "except Exception as e:\n",
    "    print(\"Warning: could not load checkpoint:\", e)\n",
    "\n",
    "model.eval()\n",
    "\n",
    "# Preprocess a PIL image using the same validation transforms\n",
    "val_tfms = get_transforms(train=False)\n",
    "\n",
    "def preprocess_pil(pil_img: Image.Image) -> torch.Tensor:\n",
    "    t = val_tfms(pil_img)            # (3,H,W) normalized\n",
    "    t = t.unsqueeze(0)               # (1,3,H,W)\n",
    "    return t\n",
    "\n",
    "@torch.no_grad()\n",
    "def predict_pil(pil_img: Image.Image) -> dict:\n",
    "    model.eval()\n",
    "    batch = preprocess_pil(pil_img).to(DEVICE)\n",
    "    with torch.amp.autocast('cuda', enabled=(DEVICE == 'cuda')):\n",
    "        logit = model(batch)[0]\n",
    "        prob_fake = float(torch.sigmoid(logit).item())\n",
    "    label = 'fake' if prob_fake >= 0.5 else 'real'\n",
    "    conf = prob_fake if label == 'fake' else 1.0 - prob_fake\n",
    "    return { 'label': label, 'prob_fake': prob_fake, 'confidence': conf }\n",
    "\n",
    "# Widgets\n",
    "uploader = widgets.FileUpload(accept='.jpg,.jpeg,.png,.bmp,.webp', multiple=False)\n",
    "path_box = widgets.Text(placeholder='Or enter a local image path (optional)...')\n",
    "predict_btn = widgets.Button(description='Predict', button_style='primary', icon='check')\n",
    "clear_btn = widgets.Button(description='Clear', icon='trash')\n",
    "out = widgets.Output()\n",
    "\n",
    "# Layout\n",
    "controls = widgets.HBox([uploader, path_box, predict_btn, clear_btn])\n",
    "\n",
    "import matplotlib.pyplot as plt\n",
    "\n",
    "def _extract_uploaded_content(val) -> Optional[bytes]:\n",
    "    \"\"\"Return first uploaded file's bytes for ipywidgets v7 (dict) and v8 (tuple/Bunch).\"\"\"\n",
    "    if not val:\n",
    "        return None\n",
    "    try:\n",
    "        # v8: tuple/list of dict-like or Bunch-like objects\n",
    "        if isinstance(val, (tuple, list)):\n",
    "            file0 = val[0] if len(val) > 0 else None\n",
    "            if file0 is None:\n",
    "                return None\n",
    "            if isinstance(file0, dict):\n",
    "                return file0.get('content')\n",
    "            return getattr(file0, 'content', None)\n",
    "        # v7: dict keyed by filename -> dict with 'content'\n",
    "        if isinstance(val, dict):\n",
    "            first = next(iter(val.values())) if len(val) else None\n",
    "            if first is None:\n",
    "                return None\n",
    "            return first.get('content') if isinstance(first, dict) else None\n",
    "    except Exception:\n",
    "        return None\n",
    "    return None\n",
    "\n",
    "\n",
    "def _load_image_from_widgets() -> Optional[Image.Image]:\n",
    "    # Priority 1: uploaded file (handles ipywidgets 7 & 8)\n",
    "    content = _extract_uploaded_content(getattr(uploader, 'value', None))\n",
    "    if content is not None:\n",
    "        try:\n",
    "            return Image.open(io.BytesIO(content)).convert('RGB')\n",
    "        except Exception as e:\n",
    "            print('Could not read uploaded image:', e)\n",
    "            # fall through to path\n",
    "    # Priority 2: local path\n",
    "    p = path_box.value.strip()\n",
    "    if p:\n",
    "        if not os.path.exists(p):\n",
    "            print(f'Path not found: {p}')\n",
    "            return None\n",
    "        try:\n",
    "            return Image.open(p).convert('RGB')\n",
    "        except Exception as e:\n",
    "            print('Could not open image from path:', e)\n",
    "            return None\n",
    "    return None\n",
    "\n",
    "\n",
    "def on_predict_clicked(_):\n",
    "    with out:\n",
    "        clear_output(wait=True)\n",
    "        pil_img = _load_image_from_widgets()\n",
    "        if pil_img is None:\n",
    "            print('Please upload an image or enter a valid file path.')\n",
    "            return\n",
    "        # Run prediction\n",
    "        try:\n",
    "            res = predict_pil(pil_img)\n",
    "        except Exception as e:\n",
    "            print('Prediction failed:', e)\n",
    "            return\n",
    "        # Show image and result\n",
    "        fig, ax = plt.subplots(figsize=(5,5))\n",
    "        ax.imshow(pil_img)\n",
    "        ax.axis('off')\n",
    "        title = f\"Prediction: {res['label'].upper()}  |  Confidence: {res['confidence']*100:.1f}%\"\n",
    "        ax.set_title(title)\n",
    "        plt.tight_layout()\n",
    "        plt.show()\n",
    "\n",
    "\n",
    "def on_clear_clicked(_):\n",
    "    # Reset uploader across ipywidgets versions\n",
    "    try:\n",
    "        if isinstance(uploader.value, dict):\n",
    "            uploader.value.clear()   # v7\n",
    "        else:\n",
    "            uploader.value = ()      # v8 tuple\n",
    "    except Exception:\n",
    "        uploader.value = ()\n",
    "    if hasattr(uploader, '_counter'):\n",
    "        uploader._counter = 0  # allow re-upload of same file\n",
    "    path_box.value = ''\n",
    "    with out:\n",
    "        clear_output(wait=True)\n",
    "\n",
    "predict_btn.on_click(on_predict_clicked)\n",
    "clear_btn.on_click(on_clear_clicked)\n",
    "\n",
    "print('Upload an image or enter a local path, then click Predict:')\n",
    "display(controls, out)"
   ]
  }
 ],
 "metadata": {
  "kernelspec": {
   "display_name": "base",
   "language": "python",
   "name": "python3"
  },
  "language_info": {
   "codemirror_mode": {
    "name": "ipython",
    "version": 3
   },
   "file_extension": ".py",
   "mimetype": "text/x-python",
   "name": "python",
   "nbconvert_exporter": "python",
   "pygments_lexer": "ipython3",
   "version": "3.13.5"
  }
 },
 "nbformat": 4,
 "nbformat_minor": 5
}
